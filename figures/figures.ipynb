{
 "cells": [
  {
   "cell_type": "code",
   "execution_count": 151,
   "id": "25395ef0-5c4a-4f15-8224-ccdc81a66119",
   "metadata": {
    "thread": {
     "embedding": {
      "headIndex": 1,
      "headName": "response_encoding",
      "quantizedEmbedding": {
       "0": 127,
       "1": 9,
       "10": 75,
       "11": 188,
       "12": 127,
       "13": 128,
       "14": 59,
       "15": 127,
       "16": 71,
       "17": 190,
       "18": 128,
       "19": 128,
       "2": 147,
       "20": 128,
       "21": 127,
       "22": 110,
       "23": 217,
       "24": 127,
       "25": 127,
       "26": 182,
       "27": 128,
       "28": 74,
       "29": 127,
       "3": 127,
       "30": 1,
       "31": 164,
       "32": 158,
       "33": 238,
       "34": 227,
       "35": 87,
       "36": 128,
       "37": 161,
       "38": 97,
       "39": 19,
       "4": 54,
       "40": 10,
       "41": 123,
       "42": 127,
       "43": 127,
       "44": 215,
       "45": 127,
       "46": 139,
       "47": 127,
       "48": 127,
       "49": 3,
       "5": 116,
       "50": 188,
       "51": 127,
       "52": 49,
       "53": 18,
       "54": 83,
       "55": 41,
       "56": 127,
       "57": 158,
       "58": 212,
       "59": 127,
       "6": 234,
       "60": 128,
       "61": 128,
       "62": 127,
       "63": 249,
       "64": 216,
       "65": 127,
       "66": 254,
       "67": 107,
       "68": 128,
       "69": 85,
       "7": 128,
       "70": 250,
       "71": 164,
       "72": 154,
       "73": 49,
       "74": 127,
       "75": 128,
       "76": 127,
       "77": 242,
       "78": 49,
       "79": 127,
       "8": 127,
       "80": 127,
       "81": 193,
       "82": 89,
       "83": 217,
       "84": 14,
       "85": 85,
       "86": 127,
       "87": 185,
       "88": 236,
       "89": 8,
       "9": 236,
       "90": 128,
       "91": 232,
       "92": 128,
       "93": 128,
       "94": 128,
       "95": 164,
       "96": 126,
       "97": 127,
       "98": 230,
       "99": 206
      }
     },
     "ran": true,
     "user": "assistant"
    }
   },
   "outputs": [],
   "source": [
    "import seaborn as sns"
   ]
  },
  {
   "cell_type": "code",
   "execution_count": 152,
   "id": "2d104b7e-e70e-4299-ba60-84fc5c6ef176",
   "metadata": {
    "thread": {
     "user": "assistant"
    }
   },
   "outputs": [],
   "source": [
    "import numpy as np\n",
    "from matplotlib import pyplot as plt"
   ]
  },
  {
   "cell_type": "code",
   "execution_count": 153,
   "id": "f0e051a0-6d82-40c5-9584-eecb04359036",
   "metadata": {},
   "outputs": [],
   "source": [
    "import pandas as pd\n",
    "from itertools import chain\n",
    "import matplotlib.pyplot as plt\n",
    "import matplotlib.patches as mpatches"
   ]
  },
  {
   "cell_type": "code",
   "execution_count": 154,
   "id": "f3020a81-c6fc-41cb-acd0-30a679c5d0fc",
   "metadata": {},
   "outputs": [],
   "source": [
    "plt.rc('font', family='Arial')\n",
    "sns.set_context(\"paper\")\n",
    "plt.rcParams.update({\n",
    "    \"text.usetex\": True,\n",
    "     # \"font.family\": \"Helvetica\"\n",
    "})"
   ]
  },
  {
   "cell_type": "markdown",
   "id": "0794b59b-9caf-4256-879d-5d1edb914237",
   "metadata": {},
   "source": [
    "# F1C Bar PLot for Chemeric Read compare"
   ]
  },
  {
   "cell_type": "code",
   "execution_count": 174,
   "id": "c38f455f-16dd-4348-9f53-68477f29710b",
   "metadata": {},
   "outputs": [],
   "source": [
    "type_names = [\"Dorado with Trim\",  \"Dorado w/o Trim\",  \"DC\"] \n",
    "\n",
    "data = {\n",
    "     type_names[0]: [107266, 6228],\n",
    "    type_names[1] : [107304, 6228],\n",
    "     type_names[2]: [9844, 4664],\n",
    "}\n",
    "\n",
    "data_with_validated = {\n",
    "        \"value\":  list(chain.from_iterable([ [data[t][0] - data[t][1],data[t][1] ]    for t in type_names  ])),\n",
    "        \"data type\": list(chain.from_iterable([ [i] * 2    for i in type_names])),\n",
    "        \"type\": [\"Unvalidated\", \"Validated\"] * len(type_names)\n",
    "        \n",
    "    }"
   ]
  },
  {
   "cell_type": "code",
   "execution_count": 175,
   "id": "c9336d78-3a0e-4e78-b14f-f08137c592cc",
   "metadata": {},
   "outputs": [],
   "source": [
    "data_df = pd.DataFrame(\n",
    "    data_with_validated\n",
    ")"
   ]
  },
  {
   "cell_type": "code",
   "execution_count": 176,
   "id": "020a98c0-c41f-4e88-b01e-1fd5b20b47fe",
   "metadata": {},
   "outputs": [
    {
     "data": {
      "text/html": [
       "<div>\n",
       "<style scoped>\n",
       "    .dataframe tbody tr th:only-of-type {\n",
       "        vertical-align: middle;\n",
       "    }\n",
       "\n",
       "    .dataframe tbody tr th {\n",
       "        vertical-align: top;\n",
       "    }\n",
       "\n",
       "    .dataframe thead th {\n",
       "        text-align: right;\n",
       "    }\n",
       "</style>\n",
       "<table border=\"1\" class=\"dataframe\">\n",
       "  <thead>\n",
       "    <tr style=\"text-align: right;\">\n",
       "      <th></th>\n",
       "      <th>value</th>\n",
       "      <th>data type</th>\n",
       "      <th>type</th>\n",
       "    </tr>\n",
       "  </thead>\n",
       "  <tbody>\n",
       "    <tr>\n",
       "      <th>0</th>\n",
       "      <td>101038</td>\n",
       "      <td>Dorado with Trim</td>\n",
       "      <td>Unvalidated</td>\n",
       "    </tr>\n",
       "    <tr>\n",
       "      <th>1</th>\n",
       "      <td>6228</td>\n",
       "      <td>Dorado with Trim</td>\n",
       "      <td>Validated</td>\n",
       "    </tr>\n",
       "    <tr>\n",
       "      <th>2</th>\n",
       "      <td>101076</td>\n",
       "      <td>Dorado w/o Trim</td>\n",
       "      <td>Unvalidated</td>\n",
       "    </tr>\n",
       "    <tr>\n",
       "      <th>3</th>\n",
       "      <td>6228</td>\n",
       "      <td>Dorado w/o Trim</td>\n",
       "      <td>Validated</td>\n",
       "    </tr>\n",
       "    <tr>\n",
       "      <th>4</th>\n",
       "      <td>5180</td>\n",
       "      <td>DC</td>\n",
       "      <td>Unvalidated</td>\n",
       "    </tr>\n",
       "    <tr>\n",
       "      <th>5</th>\n",
       "      <td>4664</td>\n",
       "      <td>DC</td>\n",
       "      <td>Validated</td>\n",
       "    </tr>\n",
       "  </tbody>\n",
       "</table>\n",
       "</div>"
      ],
      "text/plain": [
       "    value         data type         type\n",
       "0  101038  Dorado with Trim  Unvalidated\n",
       "1    6228  Dorado with Trim    Validated\n",
       "2  101076   Dorado w/o Trim  Unvalidated\n",
       "3    6228   Dorado w/o Trim    Validated\n",
       "4    5180                DC  Unvalidated\n",
       "5    4664                DC    Validated"
      ]
     },
     "execution_count": 176,
     "metadata": {},
     "output_type": "execute_result"
    }
   ],
   "source": [
    "data_df"
   ]
  },
  {
   "cell_type": "code",
   "execution_count": 177,
   "id": "a220fd2b-9043-4003-87f7-243acdf73b70",
   "metadata": {},
   "outputs": [],
   "source": [
    "# % colors\n",
    "# \\definecolor{mylightred}{RGB}{255,200,200}\n",
    "# \\definecolor{mylightblue}{RGB}{172,188,63}\n",
    "# \\definecolor{mylightgreen}{RGB}{150,220,150}\n",
    "\n",
    "c1 = [ i/255 for i in (255,200,200)]\n",
    "\n",
    "c2 =  [i/255 for i in (150,220,150)]\n",
    "\n",
    "c3 = [i/255 for i in  (172,188,63)]"
   ]
  },
  {
   "cell_type": "code",
   "execution_count": 178,
   "id": "89599a6b-c9a7-4744-a4fc-ba5694b8ea6f",
   "metadata": {},
   "outputs": [
    {
     "data": {
      "text/html": [
       "<div>\n",
       "<style scoped>\n",
       "    .dataframe tbody tr th:only-of-type {\n",
       "        vertical-align: middle;\n",
       "    }\n",
       "\n",
       "    .dataframe tbody tr th {\n",
       "        vertical-align: top;\n",
       "    }\n",
       "\n",
       "    .dataframe thead th {\n",
       "        text-align: right;\n",
       "    }\n",
       "</style>\n",
       "<table border=\"1\" class=\"dataframe\">\n",
       "  <thead>\n",
       "    <tr style=\"text-align: right;\">\n",
       "      <th></th>\n",
       "      <th>data type</th>\n",
       "      <th>value</th>\n",
       "    </tr>\n",
       "  </thead>\n",
       "  <tbody>\n",
       "    <tr>\n",
       "      <th>0</th>\n",
       "      <td>DC</td>\n",
       "      <td>9844</td>\n",
       "    </tr>\n",
       "    <tr>\n",
       "      <th>1</th>\n",
       "      <td>Dorado w/o Trim</td>\n",
       "      <td>107304</td>\n",
       "    </tr>\n",
       "    <tr>\n",
       "      <th>2</th>\n",
       "      <td>Dorado with Trim</td>\n",
       "      <td>107266</td>\n",
       "    </tr>\n",
       "  </tbody>\n",
       "</table>\n",
       "</div>"
      ],
      "text/plain": [
       "          data type   value\n",
       "0                DC    9844\n",
       "1   Dorado w/o Trim  107304\n",
       "2  Dorado with Trim  107266"
      ]
     },
     "execution_count": 178,
     "metadata": {},
     "output_type": "execute_result"
    }
   ],
   "source": [
    "data_df.groupby(\"data type\")['value'].sum().reset_index()"
   ]
  },
  {
   "cell_type": "code",
   "execution_count": 197,
   "id": "46252857-016a-41b7-aeee-4d33bf6c17d1",
   "metadata": {},
   "outputs": [
    {
     "data": {
      "image/png": "[encoded data removed]",
      "text/plain": [
       "<Figure size 600x600 with 1 Axes>"
      ]
     },
     "metadata": {},
     "output_type": "display_data"
    }
   ],
   "source": [
    "plt.figure(figsize=(6, 6))\n",
    "\n",
    "bar1 = sns.barplot(data=data_df.groupby(\"data type\")['value'].sum().reset_index(), x=\"data type\", y=\"value\", order=type_names,  color=c1, edgecolor=\"k\", linewidth=2)\n",
    "bar2 =  sns.barplot(data=data_df.query(\"type == 'Validated'\") , x=\"data type\", y=\"value\", order=type_names,  estimator=sum, color=c2, edgecolor=\"k\" ,  linewidth=2)\n",
    "\n",
    "# add legend\n",
    "top_bar = mpatches.Patch(color=c1, label='Unsupported')\n",
    "bottom_bar = mpatches.Patch(color=c2, label='Supported')\n",
    "plt.legend(handles=[top_bar, bottom_bar], \n",
    "           edgecolor='k',\n",
    "           fancybox=False)\n",
    "sns.despine(offset=10, trim=True)\n",
    "\n",
    "plt.ylabel(\"Count\")\n",
    "plt.xlabel(\"Data  Type\")\n",
    "\n",
    "plt.savefig(f'bar_plot_chemeric_read_cmp.pdf',  \n",
    "        bbox_inches='tight',  \n",
    "        dpi=300  \n",
    "        )"
   ]
  },
  {
   "cell_type": "code",
   "execution_count": 120,
   "id": "cff1d657-5f36-44aa-a937-b18a672b9a3a",
   "metadata": {},
   "outputs": [
    {
     "data": {
      "image/png": "[encoded data removed]",
      "text/plain": [
       "<Figure size 600x600 with 1 Axes>"
      ]
     },
     "metadata": {},
     "output_type": "display_data"
    }
   ],
   "source": [
    "plt.figure(figsize=(6, 6))\n",
    "total = data_df.groupby(\"data type\")['value'].sum().reset_index()\n",
    "validated = data_df.query(\"type == 'Validated'\").groupby(\"data type\")['value'].sum().reset_index()\n",
    "validated['value' ]  = [i / j * 100 for i,j in zip(validated['value'], total['value'])]\n",
    "total['value'] = [i / j * 100 for i,j in zip(total['value'], total['value'])]\n",
    "\n",
    "bar1 = sns.barplot(x=\"data type\",  y=\"value\", data=total, color=c1,  edgecolor=\"k\", linewidth=2)\n",
    "\n",
    "# bar chart 2 -> bottom bars (group of 'smoker=Yes')\n",
    "bar2 = sns.barplot(x=\"data type\", y=\"value\", data=validated, color=c2,  edgecolor=\"k\", linewidth=2)\n",
    "\n",
    "# add legend\n",
    "top_bar = mpatches.Patch(color=c1, label='Unvalidated')\n",
    "bottom_bar = mpatches.Patch(color=c2, label='Validated')\n",
    "plt.legend(handles=[top_bar, bottom_bar])\n",
    "sns.despine(offset=10, trim=True)\n",
    "\n",
    "plt.ylabel(\"Percent ($\\%$)\")\n",
    "plt.xlabel(\"Data  Type\")\n",
    "\n",
    "plt.savefig(f'bar_plot_chemeric_read_cmp_same_height.pdf',  \n",
    "        bbox_inches='tight',  \n",
    "        dpi=300  \n",
    "        )"
   ]
  },
  {
   "cell_type": "code",
   "execution_count": 31,
   "id": "5c952441-2c55-480a-a85e-ff2d1ca1481a",
   "metadata": {},
   "outputs": [
    {
     "data": {
      "text/plain": [
       "{'value': [101038, 6228, 5180, 4664, 101076, 6228],\n",
       " 'data type': ['Dorado with Trim',\n",
       "  'Dorado with Trim',\n",
       "  'DC',\n",
       "  'DC',\n",
       "  'Dorado w/o Trim',\n",
       "  'Dorado w/o Trim'],\n",
       " 'type': ['Unvalidated',\n",
       "  'Validated',\n",
       "  'Unvalidated',\n",
       "  'Validated',\n",
       "  'Unvalidated',\n",
       "  'Validated']}"
      ]
     },
     "execution_count": 31,
     "metadata": {},
     "output_type": "execute_result"
    }
   ],
   "source": [
    "data_with_validated"
   ]
  },
  {
   "cell_type": "code",
   "execution_count": null,
   "id": "ba312db6-1e39-4a84-a576-9bbdad630038",
   "metadata": {},
   "outputs": [],
   "source": [
    "# Figure 1D, E, F: BLAT, quality and PolyA motif for false positive chimeric artifacts.\n"
   ]
  },
  {
   "cell_type": "markdown",
   "id": "5b865211-8388-4261-a93b-deee71348c34",
   "metadata": {},
   "source": [
    "# F1D BLAT for internal prediction FP (Dorado chemeric reads - DC chemeric reads)"
   ]
  },
  {
   "cell_type": "code",
   "execution_count": 124,
   "id": "9a044ab9-1135-4bed-8d15-8fc2cbc60425",
   "metadata": {},
   "outputs": [],
   "source": [
    "import json"
   ]
  },
  {
   "cell_type": "code",
   "execution_count": 125,
   "id": "aa32a1b2-60fa-42ad-bdb4-4577359fcc16",
   "metadata": {},
   "outputs": [],
   "source": [
    "# load data \n",
    "plot_data = json.load(open(\"data/internal_prediction_seq_blat_top1_indentities.json\"))"
   ]
  },
  {
   "cell_type": "code",
   "execution_count": 129,
   "id": "5dbbbfe6-d9f3-4ab2-bd32-a825db15859f",
   "metadata": {},
   "outputs": [
    {
     "data": {
      "text/plain": [
       "98807"
      ]
     },
     "execution_count": 129,
     "metadata": {},
     "output_type": "execute_result"
    }
   ],
   "source": [
    "len(plot_data)"
   ]
  },
  {
   "cell_type": "code",
   "execution_count": 144,
   "id": "90ca38c7-02a0-46a3-8e19-d140c69b2e05",
   "metadata": {},
   "outputs": [
    {
     "data": {
      "image/png": "[encoded data removed]",
      "text/plain": [
       "<Figure size 600x600 with 1 Axes>"
      ]
     },
     "metadata": {},
     "output_type": "display_data"
    }
   ],
   "source": [
    "plt.figure(figsize=(6, 6))\n",
    "sns.kdeplot(data=plot_data, fill=True, color=c3, edgecolor=\"k\", linewidth=2)\n",
    "sns.despine(offset=8, trim=True)\n",
    "plt.xlabel(\"BLAT Indentity\")\n",
    "# plt.ylabel(\"Density\")\n",
    "plt.savefig(f'blat_for_fp_internal_prediction_cmp_with_dorado.pdf',  \n",
    "        bbox_inches='tight',  \n",
    "        dpi=300  \n",
    "        )"
   ]
  },
  {
   "cell_type": "markdown",
   "id": "e3b5f69e-1b19-4c02-a924-50da7195e259",
   "metadata": {},
   "source": [
    "# F1E Base Quals for internal prediction FP (Dorado chemeric reads - DC chemeric reads)"
   ]
  },
  {
   "cell_type": "code",
   "execution_count": 183,
   "id": "8d288118-0244-4764-acad-bd22c3d9c53d",
   "metadata": {},
   "outputs": [],
   "source": [
    "import json"
   ]
  },
  {
   "cell_type": "code",
   "execution_count": 186,
   "id": "8a3ed576-68d1-49a2-aa1d-959dc201b067",
   "metadata": {},
   "outputs": [],
   "source": [
    "def plot_qual(file_path):\n",
    "    from needletail import parse_fastx_file\n",
    "    quals = []\n",
    "    for record in parse_fastx_file(file_path):\n",
    "        current_quals = [ord(i) - 33 for i in list(record.qual)]\n",
    "        quals.append(sum(current_quals)/len(current_quals))\n",
    "    return quals"
   ]
  },
  {
   "cell_type": "code",
   "execution_count": 189,
   "id": "bbbe90b9-b8cb-4c17-8ff7-44f5b5600526",
   "metadata": {},
   "outputs": [],
   "source": [
    "# load data \n",
    "plot_data = json.load(open(\"data/internal_prediction_seq_base_quals.json\"))"
   ]
  },
  {
   "cell_type": "code",
   "execution_count": 190,
   "id": "13abd554-5ec2-4f0c-a369-d5fabe4e5922",
   "metadata": {},
   "outputs": [],
   "source": [
    "plot_data = [ i - 33 for i in plot_data]"
   ]
  },
  {
   "cell_type": "code",
   "execution_count": 188,
   "id": "ad97556e-caa4-4ae8-9600-fe7c5456055f",
   "metadata": {},
   "outputs": [],
   "source": [
    "# load data \n",
    "plot_qual_left_seq_data = plot_qual(\"./data/fp_dorado_heyna_vcap002.fq.gz\")"
   ]
  },
  {
   "cell_type": "code",
   "execution_count": 191,
   "id": "6d132cc8-ab99-4578-ac58-4f2badac14ea",
   "metadata": {},
   "outputs": [
    {
     "data": {
      "text/plain": [
       "88164"
      ]
     },
     "execution_count": 191,
     "metadata": {},
     "output_type": "execute_result"
    }
   ],
   "source": [
    "len(plot_qual_left_seq_data)"
   ]
  },
  {
   "cell_type": "code",
   "execution_count": 192,
   "id": "3bf30152-f618-483b-a863-51dd39f95073",
   "metadata": {},
   "outputs": [
    {
     "data": {
      "text/plain": [
       "146580"
      ]
     },
     "execution_count": 192,
     "metadata": {},
     "output_type": "execute_result"
    }
   ],
   "source": [
    "len(plot_data)"
   ]
  },
  {
   "cell_type": "code",
   "execution_count": 202,
   "id": "0cc26bdf-b5d0-451b-b787-5cf12895f44b",
   "metadata": {},
   "outputs": [
    {
     "data": {
      "image/png": "[encoded data removed]",
      "text/plain": [
       "<Figure size 600x600 with 1 Axes>"
      ]
     },
     "metadata": {},
     "output_type": "display_data"
    }
   ],
   "source": [
    "plt.figure(figsize=(6, 6))\n",
    "sns.kdeplot(data=plot_data, fill=True, color=c2, edgecolor=\"k\", linewidth=2)\n",
    "sns.kdeplot(data=plot_qual_left_seq_data, fill=True, color=c1, edgecolor=\"k\", linewidth=2)\n",
    "\n",
    "left_bar = mpatches.Patch(color=c2, label='Removed Sequence')\n",
    "right_bar = mpatches.Patch(color=c1, label='Keep Sequence')\n",
    "plt.legend(handles=[left_bar, right_bar], loc=\"upper left\")\n",
    "\n",
    "sns.despine(offset=8, trim=True)\n",
    "plt.xlabel(\"Base Qual\")\n",
    "plt.ylabel(\"Density\")\n",
    "plt.savefig(f'base_quals_for_fp_internal_prediction_cmp_with_dorado.pdf',  \n",
    "        bbox_inches='tight',  \n",
    "        dpi=300  \n",
    "        )"
   ]
  }
 ],
 "metadata": {
  "kernelspec": {
   "display_name": "Python 3 (ipykernel)",
   "language": "python",
   "name": "python3"
  },
  "language_info": {
   "codemirror_mode": {
    "name": "ipython",
    "version": 3
   },
   "file_extension": ".py",
   "mimetype": "text/x-python",
   "name": "python",
   "nbconvert_exporter": "python",
   "pygments_lexer": "ipython3",
   "version": "3.10.13"
  },
  "thread": {
   "kernelId": "a29a95b5-0cc7-4aff-a3fb-f9060af962b6",
   "sessionId": "c001df45-8f0e-41ee-9c05-2318cd5c164c"
  }
 },
 "nbformat": 4,
 "nbformat_minor": 5
}
